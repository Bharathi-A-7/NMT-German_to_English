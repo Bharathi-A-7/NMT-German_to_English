{
  "nbformat": 4,
  "nbformat_minor": 0,
  "metadata": {
    "accelerator": "GPU",
    "colab": {
      "name": "German to English Translation model.ipynb",
      "provenance": [],
      "collapsed_sections": [],
      "toc_visible": true
    },
    "kernelspec": {
      "display_name": "Python 3",
      "name": "python3"
    }
  },
  "cells": [
    {
      "cell_type": "markdown",
      "metadata": {
        "id": "SgyT_iGLIida"
      },
      "source": [
        "# **Neural Machine Translation - German to English**"
      ]
    },
    {
      "cell_type": "markdown",
      "metadata": {
        "id": "JIVxhoS4Iwjd"
      },
      "source": [
        "# 1. Importing Libraries"
      ]
    },
    {
      "cell_type": "code",
      "metadata": {
        "id": "VhsGNBoQIbfK"
      },
      "source": [
        "import numpy as np\r\n",
        "import tensorflow as tf\r\n",
        "from tensorflow import keras\r\n",
        "from tensorflow.keras.preprocessing.text import Tokenizer\r\n",
        "from tensorflow.keras.preprocessing.sequence import pad_sequences\r\n",
        "\r\n",
        "import re\r\n",
        "import os\r\n",
        "import io\r\n",
        "import string\r\n",
        "import unicodedata\r\n",
        "from unicodedata import normalize\r\n",
        "import matplotlib.pyplot as plt\r\n",
        "import matplotlib.ticker as ticker\r\n",
        "\r\n",
        "\r\n",
        "from sklearn.model_selection import train_test_split\r\n"
      ],
      "execution_count": 72,
      "outputs": []
    },
    {
      "cell_type": "markdown",
      "metadata": {
        "id": "BTNjDsAJK_iW"
      },
      "source": [
        "# 2. Loading the data"
      ]
    },
    {
      "cell_type": "code",
      "metadata": {
        "colab": {
          "base_uri": "https://localhost:8080/"
        },
        "id": "MB6ap7ArLeBR",
        "outputId": "9e5e2386-30eb-48d9-92e5-96cedcf3967f"
      },
      "source": [
        "!unzip '/content/drive/MyDrive/NMT/deu-eng.zip' -d '/content/drive/MyDrive/NMT'"
      ],
      "execution_count": null,
      "outputs": [
        {
          "output_type": "stream",
          "text": [
            "Archive:  /content/drive/MyDrive/NMT/deu-eng.zip\n",
            "  inflating: /content/drive/MyDrive/NMT/deu.txt  \n",
            "  inflating: /content/drive/MyDrive/NMT/_about.txt  \n"
          ],
          "name": "stdout"
        }
      ]
    },
    {
      "cell_type": "markdown",
      "metadata": {
        "id": "jHT_3bCOZpVW"
      },
      "source": [
        "Below is a tokenizer class that wraps the Keras' Tokenizer with additional functionalities. \r\n",
        "\r\n",
        "1. Reverse source langauge sequences\r\n",
        "2. Create a mapping from Index to word\r\n",
        "3. Convert tokens to string\r\n",
        "4. Convert token to word\r\n",
        "5. Text to tokens with reversal and padding"
      ]
    },
    {
      "cell_type": "code",
      "metadata": {
        "id": "kGKmzroN0Ko0"
      },
      "source": [
        "class TokenizerWrap(Tokenizer):\r\n",
        "\r\n",
        "  def __init__(self, lang, padding, reverse=False, num_words=None):\r\n",
        "\r\n",
        "    # Call base class' constructor\r\n",
        "    Tokenizer.__init__(self, num_words=num_words)\r\n",
        "\r\n",
        "    self.fit_on_texts(lang)\r\n",
        "\r\n",
        "    # Inverse lookup\r\n",
        "    self.index_to_word = dict(zip(self.word_index.values(),self.word_index.keys()))\r\n",
        "\r\n",
        "    self.tensor = self.texts_to_sequences(lang)\r\n",
        "\r\n",
        "\r\n",
        "    if reverse:\r\n",
        "      self.tensor = [list(reversed(seq)) for seq in self.tensor]\r\n",
        "      truncating ='pre'\r\n",
        "\r\n",
        "    else:\r\n",
        "      truncating = 'post'\r\n",
        "\r\n",
        "    \r\n",
        "    self.num_tokens = [len(seq) for seq in self.tensor]\r\n",
        "\r\n",
        "    # Find the maximum length of a sequence\r\n",
        "    self.max_len_tokens = np.mean(self.num_tokens) + 2* np.std(self.num_tokens)\r\n",
        "\r\n",
        "    self.max_len_tokens = int(self.max_len_tokens)\r\n",
        "    # Pad the tokens to the maximum length\r\n",
        "    self.padded_tensor =  pad_sequences(self.tensor, maxlen=self.max_len_tokens, padding=padding, truncating=truncating)\r\n",
        "                                        \r\n",
        "  \r\n",
        "  def token_to_word(self, token):\r\n",
        "    ''' Converts an integer token to its corresponding word, if it exists    '''\r\n",
        "\r\n",
        "    if token==0:\r\n",
        "      word = \" \"\r\n",
        "    else:\r\n",
        "      word = self.index_to_word[token]\r\n",
        "\r\n",
        "    return word\r\n",
        "\r\n",
        "  def tokens_to_string(self, tokens, reverse=False):\r\n",
        "    ''' Converts a list of integer tokens to their corresponding text sequence  '''\r\n",
        "\r\n",
        "    words = [self.index_to_word[token] for token in tokens if token!=0]\r\n",
        "\r\n",
        "    if reverse:\r\n",
        "      words.reverse()\r\n",
        "\r\n",
        "    text = \" \".join(words)\r\n",
        "\r\n",
        "    return text\r\n",
        "\r\n",
        " \r\n",
        "  def text_to_tokens(self, text, reverse=False, padding=False):\r\n",
        "\r\n",
        "   ''' Converts text to tokens with reversal and padding '''\r\n",
        "\r\n",
        "   tokens = self.texts_to_sequences([text])\r\n",
        "   tokens = np.array(tokens)\r\n",
        "\r\n",
        "   if reverse:\r\n",
        "     tokens = np.flip(tokens,axis=1)\r\n",
        "\r\n",
        "     truncating = 'pre'\r\n",
        "\r\n",
        "   else:\r\n",
        "     truncating = 'post'\r\n",
        "\r\n",
        "   \r\n",
        "   if padding:\r\n",
        "\r\n",
        "     tokens = pad_sequences(tokens, self.max_len_tokens, padding=True, truncating=True)\r\n",
        "   return tokens\r\n",
        "\r\n"
      ],
      "execution_count": 3,
      "outputs": []
    },
    {
      "cell_type": "markdown",
      "metadata": {
        "id": "pDrW4tKwiOOc"
      },
      "source": [
        "A class called Data which is used to read the file, load the data, preprocess the text and return the tensors for source and target language.\r\n",
        "\r\n",
        "\r\n",
        "\r\n"
      ]
    },
    {
      "cell_type": "code",
      "metadata": {
        "id": "u3p9AIxILEdd"
      },
      "source": [
        "class Data:\r\n",
        "\r\n",
        "  def __init__(self, langType):\r\n",
        "\r\n",
        "    self.langType = 'deu-eng'\r\n",
        "    self.input_tokenizer = None\r\n",
        "    self.target_tokenizer = None\r\n",
        "\r\n",
        "\r\n",
        "  def preprocess_sentence(self, sentence):\r\n",
        "\r\n",
        "    #To remove non-printable characters\r\n",
        "    re_printable = re.compile('[^%s]' % re.escape(string.printable))\r\n",
        "\r\n",
        "    #Translation table to remove punctuation\r\n",
        "    transTable = str.maketrans('','',string.punctuation)\r\n",
        "\r\n",
        "    #Unicode Normalize sentence \r\n",
        "    sentence = normalize('NFD', sentence).encode('ascii','ignore')\r\n",
        "    sentence = sentence.decode('UTF-8')\r\n",
        "\r\n",
        "    sentence = sentence.split()\r\n",
        "    # Convert to lower case\r\n",
        "    sentence = [word.lower() for word in sentence]\r\n",
        "    # Remove punctuations\r\n",
        "    sentence = [word.translate(transTable) for word in sentence]\r\n",
        "    # Remove Non-printable characters\r\n",
        "    sentence = [re_printable.sub('',word) for word in sentence]\r\n",
        "    # Remove tokens that are numbers\r\n",
        "    sentence = [word for word in sentence if word.isalpha()]\r\n",
        "\r\n",
        "    # Convert list of words to a string\r\n",
        "    processedSentence = ' '.join(sentence)\r\n",
        "\r\n",
        "    processedSentence = 'ssss ' + processedSentence + ' eeee'\r\n",
        "\r\n",
        "    return processedSentence\r\n",
        "\r\n",
        "  def tokenize(self, lang, padding, reverse, num_words):\r\n",
        "\r\n",
        "    lang_tokenizer = TokenizerWrap(lang, padding, reverse, num_words=num_words)\r\n",
        "\r\n",
        "    return lang_tokenizer.padded_tensor, lang_tokenizer\r\n",
        "    \r\n",
        "\r\n",
        "\r\n",
        "  def readFile(self, path, num_sentences):\r\n",
        "\r\n",
        "    ''' read and preprocess sentences in the file '''\r\n",
        "\r\n",
        "    lines = io.open(path, encoding='UTF-8').read().strip().split('\\n')\r\n",
        "\r\n",
        "    sentence_Pairs = [[self.preprocess_sentence(s) for s in l.split('\\t')[:2]]  for l in lines[:num_sentences]]\r\n",
        "\r\n",
        "    sentencePairs = []\r\n",
        "\r\n",
        "    #Reverse each pair in sentencePairs ( We need German -> English mapping)\r\n",
        "    for pair in sentence_Pairs:\r\n",
        "        pair.reverse()\r\n",
        "        sentencePairs.append(pair)\r\n",
        "\r\n",
        "\r\n",
        "    return zip(*sentencePairs)\r\n",
        "\r\n",
        "\r\n",
        "\r\n",
        "  def loadDataset(self, file_path, num_sentences):\r\n",
        "\r\n",
        "    ''' Create and return tensors and tokenizers'''\r\n",
        "\r\n",
        "    input_sentences, target_sentences = self.readFile(file_path, num_sentences)\r\n",
        "\r\n",
        "    input_tensor, input_tokenizer = self.tokenize(input_sentences, padding='pre', reverse=True, num_words=20000)\r\n",
        "    \r\n",
        "    target_tensor, target_tokenizer = self.tokenize(target_sentences, padding='post', reverse=False, num_words=20000)\r\n",
        "    \r\n",
        "\r\n",
        "\r\n",
        "    return input_tensor, target_tensor, input_tokenizer, target_tokenizer \r\n",
        "    \r\n",
        "  \r\n",
        "  def createDataset(self, file_path, num_sentences, buffer_size, batch_size):\r\n",
        "\r\n",
        "    filePath = file_path\r\n",
        "    input_tensor, target_tensor, self.input_tokenizer, self.target_tokenizer = self.loadDataset(filePath, num_sentences)\r\n",
        "\r\n",
        "    input_tensor_train, input_tensor_test, target_tensor_train, target_tensor_test = train_test_split(input_tensor, target_tensor, test_size = 0.2)\r\n",
        "  \r\n",
        "    train_data = tf.data.Dataset.from_tensor_slices((input_tensor_train, target_tensor_train))\r\n",
        "    train_data = train_data.shuffle(buffer_size).batch(batch_size,drop_remainder=True)\r\n",
        "\r\n",
        "    test_data = tf.data.Dataset.from_tensor_slices((input_tensor_test, target_tensor_test))\r\n",
        "    test_data = test_data.batch(batch_size, drop_remainder=True)\r\n",
        "\r\n",
        "    return train_data, test_data, self.input_tokenizer, self.target_tokenizer\r\n",
        "\r\n",
        "\r\n"
      ],
      "execution_count": 4,
      "outputs": []
    },
    {
      "cell_type": "code",
      "metadata": {
        "id": "7i-0O01mccXi"
      },
      "source": [
        "dataObject = Data('deu-eng')\r\n",
        "batch_size = 64\r\n",
        "buffer_size = 32000\r\n",
        "num_sentences = 30000\r\n",
        "\r\n",
        "train_data, test_data, input_tokenizer, target_tokenizer = dataObject.createDataset('/content/drive/MyDrive/NMT/deu.txt',num_sentences, buffer_size, batch_size)"
      ],
      "execution_count": 5,
      "outputs": []
    },
    {
      "cell_type": "markdown",
      "metadata": {
        "id": "9EVz7qKtFn9c"
      },
      "source": [
        "Let us look at a tensor.."
      ]
    },
    {
      "cell_type": "code",
      "metadata": {
        "colab": {
          "base_uri": "https://localhost:8080/"
        },
        "id": "qmYhi2Z7Fviv",
        "outputId": "7e9e1aff-f8c4-41ba-fab0-8a00f26658f9"
      },
      "source": [
        "sample_input, sample_target = next(iter(train_data))\r\n",
        "\r\n",
        "\r\n",
        "\r\n",
        "text_s = input_tokenizer.tokens_to_string(sample_input[3].numpy(), reverse=True) # Indexing using tensor[0].numpy()\r\n",
        "text_t = target_tokenizer.tokens_to_string(sample_target[3].numpy())\r\n",
        "print(\"Source : \")\r\n",
        "print(sample_input.shape)\r\n",
        "print(text_s)\r\n",
        "\r\n",
        "print(\"Target\")\r\n",
        "print(sample_target.shape)\r\n",
        "print(text_t)"
      ],
      "execution_count": 6,
      "outputs": [
        {
          "output_type": "stream",
          "text": [
            "Source : \n",
            "(64, 7)\n",
            "ssss lass es tom machen eeee\n",
            "Target\n",
            "(64, 6)\n",
            "ssss let tom do it eeee\n"
          ],
          "name": "stdout"
        }
      ]
    },
    {
      "cell_type": "markdown",
      "metadata": {
        "id": "x2iEaHIgTpka"
      },
      "source": [
        "Setting some important parameters"
      ]
    },
    {
      "cell_type": "code",
      "metadata": {
        "id": "HDKs3d_tTxjv"
      },
      "source": [
        "input_vocab_size = len(input_tokenizer.word_index)+1\r\n",
        "target_vocab_size = len(target_tokenizer.word_index)+1\r\n",
        "\r\n",
        "input_max_length = sample_input.shape[1]\r\n",
        "target_max_length = sample_target.shape[1]\r\n",
        "\r\n",
        "embedding_size = 256\r\n",
        "num_hidden_units = 1024\r\n",
        "steps_per_epoch = num_sentences/batch_size\r\n"
      ],
      "execution_count": 7,
      "outputs": []
    },
    {
      "cell_type": "code",
      "metadata": {
        "colab": {
          "base_uri": "https://localhost:8080/"
        },
        "id": "7UP33JdUWAHy",
        "outputId": "3a4c6aea-764f-4dfa-b615-b5f85def8287"
      },
      "source": [
        "print(\"Size of German vocabulary : \", input_vocab_size)\r\n",
        "print(\"Size of English vocabulary : \", target_vocab_size)"
      ],
      "execution_count": null,
      "outputs": [
        {
          "output_type": "stream",
          "text": [
            "Size of German vocabulary :  7285\n",
            "Size of English vocabulary :  4620\n"
          ],
          "name": "stdout"
        }
      ]
    },
    {
      "cell_type": "markdown",
      "metadata": {
        "id": "gdpLFW8xV1oe"
      },
      "source": [
        "# 3. Building the Encoder and Decoder"
      ]
    },
    {
      "cell_type": "markdown",
      "metadata": {
        "id": "Z0Wy5NP9XK64"
      },
      "source": [
        "Below is the implementation of Encoder stack :"
      ]
    },
    {
      "cell_type": "code",
      "metadata": {
        "id": "fRrz4RlGXKN9"
      },
      "source": [
        "class Encoder(tf.keras.Model):\r\n",
        "\r\n",
        "  def __init__(self, vocab_size, embedding_size, state_size, batch_size):\r\n",
        "\r\n",
        "    super(Encoder, self).__init__()\r\n",
        "\r\n",
        "    self.state_size = state_size\r\n",
        "    self.embedding_size = embedding_size\r\n",
        "    self.batch_size = batch_size\r\n",
        "\r\n",
        "    # An Embedding layer followed by three LSTM layers in the Encoder\r\n",
        "    self.embedding = tf.keras.layers.Embedding(vocab_size, embedding_size)\r\n",
        "    self.lstm1 = tf.keras.layers.LSTM(state_size, return_sequences=True)\r\n",
        "    self.lstm2 = tf.keras.layers.LSTM(state_size, return_sequences=True)\r\n",
        "    self.lstm3 = tf.keras.layers.LSTM(state_size, return_sequences=True, return_state=True)\r\n",
        "\r\n",
        "  \r\n",
        "  #Function to make a forward pass through the encoder, given a batch of input tokens\r\n",
        "  def call(self, input):\r\n",
        "\r\n",
        "    embedding = self.embedding(input)\r\n",
        "\r\n",
        "    out = self.lstm1(embedding)\r\n",
        "    out = self.lstm2(out)\r\n",
        "    out, h, c = self.lstm3(out)\r\n",
        "\r\n",
        "    return out, h, c\r\n"
      ],
      "execution_count": 8,
      "outputs": []
    },
    {
      "cell_type": "code",
      "metadata": {
        "colab": {
          "base_uri": "https://localhost:8080/"
        },
        "id": "59KrCmDO-b8e",
        "outputId": "9bbf103a-7e41-40ef-aa69-fc2252695cf6"
      },
      "source": [
        "encoder = Encoder(input_vocab_size, embedding_size, num_hidden_units, batch_size)\r\n",
        "\r\n",
        "sample_out, sample_h, sample_c = encoder(sample_input)\r\n",
        "\r\n",
        "print(sample_out.shape)\r\n",
        "print(sample_h.shape)\r\n",
        "print(sample_c.shape)"
      ],
      "execution_count": 9,
      "outputs": [
        {
          "output_type": "stream",
          "text": [
            "(64, 7, 1024)\n",
            "(64, 1024)\n",
            "(64, 1024)\n"
          ],
          "name": "stdout"
        }
      ]
    },
    {
      "cell_type": "markdown",
      "metadata": {
        "id": "ZmmE8r9uBYPR"
      },
      "source": [
        "Below is the implementation of Decoder stack"
      ]
    },
    {
      "cell_type": "markdown",
      "metadata": {
        "id": "7Zb0GC0g7t9L"
      },
      "source": [
        "**Bahadanau Attention Layer**"
      ]
    },
    {
      "cell_type": "code",
      "metadata": {
        "id": "dhoQGW1YBe_5"
      },
      "source": [
        "class BahdanauAttention(tf.keras.layers.Layer):\r\n",
        "\r\n",
        "  def __init__(self, num_units):\r\n",
        "\r\n",
        "    super(BahdanauAttention, self).__init__()\r\n",
        "\r\n",
        "    self.W1 = tf.keras.layers.Dense(num_units)\r\n",
        "    self.W2 = tf.keras.layers.Dense(num_units)\r\n",
        "    self.V = tf.keras.layers.Dense(1)\r\n",
        "\r\n",
        "  def call(self, encoder_output, previous_hidden):\r\n",
        "\r\n",
        "    previous_hidden = tf.expand_dims(previous_hidden, axis=1)\r\n",
        "\r\n",
        "    alignment_score = self.V(tf.nn.tanh(self.W1(encoder_output) + self.W2(previous_hidden)))\r\n",
        "\r\n",
        "    attention_weights = tf.nn.softmax(alignment_score, axis=1)\r\n",
        "\r\n",
        "    context_vector = attention_weights*encoder_output\r\n",
        "    context_vector = tf.reduce_sum(context_vector, axis=1)\r\n",
        "\r\n",
        "    return context_vector, attention_weights"
      ],
      "execution_count": 10,
      "outputs": []
    },
    {
      "cell_type": "code",
      "metadata": {
        "colab": {
          "base_uri": "https://localhost:8080/"
        },
        "id": "FLnFgoVn9Sjb",
        "outputId": "d1446b08-8dcf-4468-ed36-e62565d2a72f"
      },
      "source": [
        "attention_layer = BahdanauAttention(10)\r\n",
        "\r\n",
        "context_vector, attention_weights = attention_layer(sample_out, sample_h)\r\n",
        "\r\n",
        "\r\n",
        "print('Context Vector shape : ', context_vector.shape)\r\n",
        "print('Attention weights shape : ', attention_weights.shape)"
      ],
      "execution_count": null,
      "outputs": [
        {
          "output_type": "stream",
          "text": [
            "Context Vector shape :  (64, 1024)\n",
            "Attention weights shape :  (64, 7, 1)\n"
          ],
          "name": "stdout"
        }
      ]
    },
    {
      "cell_type": "markdown",
      "metadata": {
        "id": "1aAn_Y04TTya"
      },
      "source": [
        "**Decoder with Attention mechanism**"
      ]
    },
    {
      "cell_type": "code",
      "metadata": {
        "id": "ijn00LX5TYpi"
      },
      "source": [
        "class Decoder(tf.keras.Model):\r\n",
        "\r\n",
        "  def __init__(self, vocab_size, embedding_size, state_size, batch_size):\r\n",
        "\r\n",
        "    super(Decoder, self).__init__()\r\n",
        "    self.batch_size = batch_size\r\n",
        "    self.num_units = state_size\r\n",
        "\r\n",
        "    self.embedding = tf.keras.layers.Embedding(vocab_size, embedding_size)\r\n",
        "\r\n",
        "    self.lstm = tf.keras.layers.LSTM(self.num_units, return_sequences=True, return_state=True)\r\n",
        "\r\n",
        "    self.dense = tf.keras.layers.Dense(vocab_size)\r\n",
        "\r\n",
        "    self.attention = BahdanauAttention(self.num_units)\r\n",
        "\r\n",
        "\r\n",
        "  def call(self, input, previous_hidden, encoder_output):\r\n",
        "    \r\n",
        "\r\n",
        "    context_vector, attention_weights = self.attention(encoder_output, previous_hidden)\r\n",
        "   \r\n",
        "    input = self.embedding(input)\r\n",
        "    \r\n",
        "    input = tf.concat([tf.expand_dims(context_vector, 1), input], axis=-1)\r\n",
        "    \r\n",
        "    output, h, c = self.lstm(input)\r\n",
        "   \r\n",
        "    output = tf.reshape(output, (-1, output.shape[2]))\r\n",
        "   \r\n",
        "    output = self.dense(output)\r\n",
        "    \r\n",
        "    return output, h, attention_weights\r\n",
        "\r\n"
      ],
      "execution_count": 11,
      "outputs": []
    },
    {
      "cell_type": "code",
      "metadata": {
        "colab": {
          "base_uri": "https://localhost:8080/"
        },
        "id": "--2idiyM_JC7",
        "outputId": "e5d0bb9a-be47-4a16-f93c-3d32f92c05f1"
      },
      "source": [
        "decoder = Decoder(target_vocab_size, embedding_size, num_hidden_units, batch_size)\r\n",
        "\r\n",
        "sample_decoder_output, _, _ = decoder(tf.random.uniform((batch_size, 1)), sample_h, sample_out)\r\n",
        "\r\n",
        "print ('Decoder output' , sample_decoder_output.shape)"
      ],
      "execution_count": 12,
      "outputs": [
        {
          "output_type": "stream",
          "text": [
            "Decoder output (64, 4620)\n"
          ],
          "name": "stdout"
        }
      ]
    },
    {
      "cell_type": "markdown",
      "metadata": {
        "id": "lfC6aBnsdQ2e"
      },
      "source": [
        "# 4. Optimizer and Loss Function"
      ]
    },
    {
      "cell_type": "code",
      "metadata": {
        "id": "wKn1d1VcdVLK"
      },
      "source": [
        "optimizer = tf.keras.optimizers.Adam()\r\n",
        "\r\n",
        "loss_object = tf.keras.losses.SparseCategoricalCrossentropy(from_logits=True, reduction='none')\r\n",
        "\r\n",
        "\r\n",
        "def loss_function(truth, predicted):\r\n",
        "\r\n",
        "  mask = tf.math.logical_not(tf.math.equal(truth, 0))\r\n",
        "\r\n",
        "  loss = loss_object(truth, predicted)\r\n",
        "\r\n",
        "  mask = tf.cast(mask, dtype=loss.dtype)\r\n",
        "\r\n",
        "  loss = loss*mask\r\n",
        "\r\n",
        "  return tf.reduce_mean(loss)"
      ],
      "execution_count": 13,
      "outputs": []
    },
    {
      "cell_type": "markdown",
      "metadata": {
        "id": "CVre3Kk5--GH"
      },
      "source": [
        "Checkpoints :\r\n",
        "\r\n",
        "\r\n"
      ]
    },
    {
      "cell_type": "code",
      "metadata": {
        "id": "Uc6ZG_ny-9X6"
      },
      "source": [
        "checkpoint_dir = './training_checkpoint'\r\n",
        "checkpoint_prefix = os.path.join(checkpoint_dir, \"chkpt\")\r\n",
        "checkpoint = tf.train.Checkpoint(optimizer=optimizer, encoder=encoder, decoder=decoder)"
      ],
      "execution_count": 14,
      "outputs": []
    },
    {
      "cell_type": "markdown",
      "metadata": {
        "id": "rd-9VeCVDMcj"
      },
      "source": [
        "# 5. Training "
      ]
    },
    {
      "cell_type": "markdown",
      "metadata": {
        "id": "RdtNNykEl02Z"
      },
      "source": [
        "**Training using Teacher Forcing**"
      ]
    },
    {
      "cell_type": "markdown",
      "metadata": {
        "id": "qVh-vwLZLX1Y"
      },
      "source": [
        "Training step over a single batch"
      ]
    },
    {
      "cell_type": "code",
      "metadata": {
        "id": "BsoF2vwFDPU-"
      },
      "source": [
        "def train(input_tensor, target_tensor):\r\n",
        "\r\n",
        "  optimizer = tf.keras.optimizers.Adam()\r\n",
        "  loss = 0.0\r\n",
        "\r\n",
        "  with tf.GradientTape() as tape:\r\n",
        "\r\n",
        "    batch_size = input_tensor.shape[0]\r\n",
        "\r\n",
        "    encoder_output, encoder_hidden, encoder_cell = encoder(input_tensor)\r\n",
        "\r\n",
        "    previous_hidden = encoder_hidden\r\n",
        "\r\n",
        "    decoder_input = tf.expand_dims([target_tokenizer.word_index['ssss']]*batch_size,1)\r\n",
        "\r\n",
        "    for t in range(1, target_tensor.shape[1]):\r\n",
        "\r\n",
        "      predictions, previous_hidden, _ = decoder(decoder_input, previous_hidden, encoder_output)\r\n",
        "\r\n",
        "      loss = loss + loss_function(target_tensor[:,t], predictions)\r\n",
        "\r\n",
        "      # Teacher forcing\r\n",
        "      decoder_input = tf.expand_dims(target_tensor[:,t],1)\r\n",
        "\r\n",
        "  # Averaging over the length of the target sequences\r\n",
        "  batch_loss = (loss / int(target_tensor.shape[1]))\r\n",
        "\r\n",
        "  variables = encoder.trainable_variables + decoder.trainable_variables\r\n",
        "\r\n",
        "  gradients = tape.gradient(loss, variables)\r\n",
        "\r\n",
        "  optimizer.apply_gradients(zip(gradients, variables))\r\n",
        "\r\n",
        "  return batch_loss\r\n"
      ],
      "execution_count": 15,
      "outputs": []
    },
    {
      "cell_type": "markdown",
      "metadata": {
        "id": "US1tQHeSLazl"
      },
      "source": [
        "Training over multiple batches and epochs"
      ]
    },
    {
      "cell_type": "code",
      "metadata": {
        "colab": {
          "base_uri": "https://localhost:8080/"
        },
        "id": "ODkb_npKLM-b",
        "outputId": "3b5fb86a-0aab-4ec7-bdd5-34fcf28c3e8d"
      },
      "source": [
        "epochs = 10\r\n",
        "\r\n",
        "for epoch in range(epochs):\r\n",
        "\r\n",
        "  total_loss = 0\r\n",
        "\r\n",
        "  for (batch, (input_tensor,target_tensor)) in enumerate(train_data.take(int(steps_per_epoch))):\r\n",
        "\r\n",
        "    batch_loss = train(input_tensor, target_tensor)\r\n",
        "\r\n",
        "    total_loss = total_loss + batch_loss\r\n",
        "\r\n",
        "    if batch % 100 == 0:\r\n",
        "      print('Epoch {} Batch {} Loss {:.4f}'.format(epoch + 1, batch, batch_loss.numpy()))\r\n",
        "  # Save the model every 2 epochs\r\n",
        "  if (epoch + 1) % 2 == 0:\r\n",
        "    checkpoint.save(file_prefix = checkpoint_prefix)\r\n",
        "\r\n",
        "  print('Epoch {} Loss {:.4f}'.format(epoch + 1, total_loss / steps_per_epoch))"
      ],
      "execution_count": 16,
      "outputs": [
        {
          "output_type": "stream",
          "text": [
            "Epoch 1 Batch 0 Loss 6.1529\n",
            "Epoch 1 Batch 100 Loss 3.9618\n",
            "Epoch 1 Batch 200 Loss 3.4144\n",
            "Epoch 1 Batch 300 Loss 3.2180\n",
            "Epoch 1 Loss 2.9579\n",
            "Epoch 2 Batch 0 Loss 3.4042\n",
            "Epoch 2 Batch 100 Loss 3.2181\n",
            "Epoch 2 Batch 200 Loss 3.0015\n",
            "Epoch 2 Batch 300 Loss 3.0240\n",
            "Epoch 2 Loss 2.4384\n",
            "Epoch 3 Batch 0 Loss 3.0415\n",
            "Epoch 3 Batch 100 Loss 2.6151\n",
            "Epoch 3 Batch 200 Loss 2.6528\n",
            "Epoch 3 Batch 300 Loss 2.6589\n",
            "Epoch 3 Loss 2.1859\n",
            "Epoch 4 Batch 0 Loss 2.6376\n",
            "Epoch 4 Batch 100 Loss 2.3059\n",
            "Epoch 4 Batch 200 Loss 2.5141\n",
            "Epoch 4 Batch 300 Loss 2.5270\n",
            "Epoch 4 Loss 1.9780\n",
            "Epoch 5 Batch 0 Loss 2.1168\n",
            "Epoch 5 Batch 100 Loss 2.1173\n",
            "Epoch 5 Batch 200 Loss 2.3309\n",
            "Epoch 5 Batch 300 Loss 2.3316\n",
            "Epoch 5 Loss 1.8241\n",
            "Epoch 6 Batch 0 Loss 2.0689\n",
            "Epoch 6 Batch 100 Loss 1.9538\n",
            "Epoch 6 Batch 200 Loss 2.0011\n",
            "Epoch 6 Batch 300 Loss 2.2671\n",
            "Epoch 6 Loss 1.7095\n",
            "Epoch 7 Batch 0 Loss 1.7719\n",
            "Epoch 7 Batch 100 Loss 1.8833\n",
            "Epoch 7 Batch 200 Loss 2.1868\n",
            "Epoch 7 Batch 300 Loss 2.0113\n",
            "Epoch 7 Loss 1.6204\n",
            "Epoch 8 Batch 0 Loss 1.8262\n",
            "Epoch 8 Batch 100 Loss 1.7720\n",
            "Epoch 8 Batch 200 Loss 2.0881\n",
            "Epoch 8 Batch 300 Loss 1.8952\n",
            "Epoch 8 Loss 1.5565\n",
            "Epoch 9 Batch 0 Loss 1.7707\n",
            "Epoch 9 Batch 100 Loss 1.8945\n",
            "Epoch 9 Batch 200 Loss 1.7639\n",
            "Epoch 9 Batch 300 Loss 1.8439\n",
            "Epoch 9 Loss 1.4977\n",
            "Epoch 10 Batch 0 Loss 1.7183\n",
            "Epoch 10 Batch 100 Loss 1.6978\n",
            "Epoch 10 Batch 200 Loss 1.8179\n",
            "Epoch 10 Batch 300 Loss 1.8075\n",
            "Epoch 10 Loss 1.4447\n"
          ],
          "name": "stdout"
        }
      ]
    },
    {
      "cell_type": "markdown",
      "metadata": {
        "id": "SeqcEwqrFDhv"
      },
      "source": [
        "# 6. Testing and Evaluation"
      ]
    },
    {
      "cell_type": "markdown",
      "metadata": {
        "id": "_bdTqdVoPs7M"
      },
      "source": [
        "Testing on batches of test data"
      ]
    },
    {
      "cell_type": "code",
      "metadata": {
        "id": "r4q2oBP8FLhj"
      },
      "source": [
        "def test(input_tensor, target_tensor):\r\n",
        "\r\n",
        "  val_loss = 0.0\r\n",
        "\r\n",
        "  batch_size = input_tensor.shape[0]\r\n",
        "\r\n",
        "  encoder_output, encoder_hidden, _ = encoder(input_tensor)\r\n",
        "\r\n",
        "  decoder_hidden = encoder_hidden\r\n",
        "\r\n",
        "  decoder_input = tf.expand_dims([target_tokenizer.word_index['ssss']]*batch_size, 1)\r\n",
        "\r\n",
        "  for t in range(1, target_tensor.shape[1]):\r\n",
        "    \r\n",
        "    predictions, decoder_hidden, _ = decoder(decoder_input, decoder_hidden, encoder_output)\r\n",
        "   \r\n",
        "    val_loss += loss_function(target_tensor[:,t], predictions)\r\n",
        "    \r\n",
        "    decoder_input = tf.expand_dims(np.argmax(predictions, axis=1),1)\r\n",
        "\r\n",
        "  batch_loss = (val_loss/int(target_tensor.shape[1]))\r\n",
        "  return batch_loss\r\n"
      ],
      "execution_count": 80,
      "outputs": []
    },
    {
      "cell_type": "markdown",
      "metadata": {
        "id": "SmaeUMKVPqdl"
      },
      "source": [
        "Evaluation on new sentences"
      ]
    },
    {
      "cell_type": "code",
      "metadata": {
        "id": "_ucXWryrPwR9"
      },
      "source": [
        "def evaluate(sentence):\r\n",
        "\r\n",
        "  attention_matrix = np.zeros((target_max_length, input_max_length))\r\n",
        "\r\n",
        "  sentence = dataObject.preprocess_sentence(sentence)\r\n",
        "\r\n",
        "  input_tokens = [input_tokenizer.word_index[i] for i in sentence.split(' ') if i in input_tokenizer.word_index.keys()]\r\n",
        "\r\n",
        "  input_tokens = list(reversed(input_tokens))\r\n",
        "\r\n",
        "  input_tokens = pad_sequences([input_tokens], maxlen=input_max_length, padding='pre', truncating='pre')\r\n",
        "\r\n",
        "  input_tensor = tf.convert_to_tensor(input_tokens)\r\n",
        " \r\n",
        "\r\n",
        "  translation = ''\r\n",
        "\r\n",
        "  encoder_output, encoder_hidden, _ = encoder(input_tensor)\r\n",
        "\r\n",
        "  decoder_input = tf.expand_dims([target_tokenizer.word_index['ssss']], 0)\r\n",
        "\r\n",
        "  decoder_hidden = encoder_hidden\r\n",
        "\r\n",
        "  for t in range(target_max_length):\r\n",
        "\r\n",
        "    predictions, decoder_hidden, attention_weights = decoder(decoder_input, decoder_hidden, encoder_output)\r\n",
        "\r\n",
        "    attention_weights = tf.reshape(attention_weights, (-1, ))\r\n",
        "    attention_matrix[t] = attention_weights.numpy()\r\n",
        "\r\n",
        "    predicted_index = tf.argmax(predictions[0]).numpy()\r\n",
        "\r\n",
        "    translation += target_tokenizer.index_word[predicted_index] + ' '\r\n",
        "\r\n",
        "    if target_tokenizer.index_word[predicted_index] == 'eeee':\r\n",
        "      return translation, sentence, attention_matrix\r\n",
        "\r\n",
        "    # The prediction is fed into the next time step of the decoder\r\n",
        "    decoder_input = tf.expand_dims([predicted_index], 0)\r\n",
        "\r\n",
        "  return translation, sentence, attention_matrix\r\n",
        "\r\n"
      ],
      "execution_count": 96,
      "outputs": []
    },
    {
      "cell_type": "code",
      "metadata": {
        "id": "lsBmxuUaU6nH"
      },
      "source": [
        "def plot_attention_weights(attention, sentence, predicted_translation):\r\n",
        "  fig = plt.figure(figsize=(10,10))\r\n",
        "  ax = fig.add_subplot(1, 1, 1)\r\n",
        "  ax.matshow(attention, cmap='viridis')\r\n",
        "\r\n",
        "  fontdict = {'fontsize': 14}\r\n",
        "\r\n",
        "  ax.set_xticklabels([''] + sentence, fontdict=fontdict, rotation=90)\r\n",
        "  ax.set_yticklabels([''] + predicted_translation, fontdict=fontdict)\r\n",
        "\r\n",
        "  ax.xaxis.set_major_locator(ticker.MultipleLocator(1))\r\n",
        "  ax.yaxis.set_major_locator(ticker.MultipleLocator(1))\r\n",
        "\r\n",
        "  plt.show()"
      ],
      "execution_count": 19,
      "outputs": []
    },
    {
      "cell_type": "code",
      "metadata": {
        "id": "h6_kS_lmVFKo"
      },
      "source": [
        "def translate(sentence):\r\n",
        "  translation, sentence, attention_matrix = evaluate(sentence)\r\n",
        "\r\n",
        "  print('Input: %s' % (sentence))\r\n",
        "  print('Predicted translation: {}'.format(translation))\r\n",
        "\r\n",
        "  attention_matrix = attention_matrix[:len(translation.split(' ')), :len(sentence.split(' '))]\r\n",
        "  plot_attention_weights(attention_matrix, sentence.split(' '), translation.split(' '))"
      ],
      "execution_count": 68,
      "outputs": []
    },
    {
      "cell_type": "code",
      "metadata": {
        "id": "Rw4N3N1KL5YI",
        "colab": {
          "base_uri": "https://localhost:8080/"
        },
        "outputId": "f6ea66b0-c0e3-4ec8-d135-a07a35343196"
      },
      "source": [
        "checkpoint.restore(tf.train.latest_checkpoint(checkpoint_dir))"
      ],
      "execution_count": 21,
      "outputs": [
        {
          "output_type": "execute_result",
          "data": {
            "text/plain": [
              "<tensorflow.python.training.tracking.util.CheckpointLoadStatus at 0x7f7f574d67b8>"
            ]
          },
          "metadata": {
            "tags": []
          },
          "execution_count": 21
        }
      ]
    },
    {
      "cell_type": "code",
      "metadata": {
        "id": "aKE_L87uLXDx",
        "colab": {
          "base_uri": "https://localhost:8080/"
        },
        "outputId": "8bffd0a5-8ca5-4fd0-8a41-af5dee3120a5"
      },
      "source": [
        "total_val_loss = 0\r\n",
        "for (batch, (input_tensor, target_tensor)) in enumerate(test_data.take(int(steps_per_epoch))):\r\n",
        "    val_batch_loss = test(input_tensor, target_tensor)\r\n",
        "\r\n",
        "    total_val_loss += val_batch_loss\r\n",
        "\r\n",
        "mean_loss = total_val_loss/int(steps_per_epoch)\r\n",
        "\r\n",
        "print(mean_loss.numpy())"
      ],
      "execution_count": 98,
      "outputs": [
        {
          "output_type": "stream",
          "text": [
            "0.5352502\n"
          ],
          "name": "stdout"
        }
      ]
    },
    {
      "cell_type": "code",
      "metadata": {
        "id": "HRF9XDz7W7tM",
        "colab": {
          "base_uri": "https://localhost:8080/",
          "height": 688
        },
        "outputId": "d310e277-f5fc-4c5f-9c51-c286a58d71f2"
      },
      "source": [
        "translate(u'Wie geht es dir')"
      ],
      "execution_count": 95,
      "outputs": [
        {
          "output_type": "stream",
          "text": [
            "[2, 46, 8, 61, 37, 1]\n",
            "[[ 0  2 46  8 61 37  1]]\n",
            "Input: ssss wie geht es dir eeee\n",
            "Predicted translation: how are you are eeee \n"
          ],
          "name": "stdout"
        },
        {
          "output_type": "display_data",
          "data": {
            "image/png": "[encoded data removed]",
            "text/plain": [
              "<Figure size 720x720 with 1 Axes>"
            ]
          },
          "metadata": {
            "tags": [],
            "needs_background": "light"
          }
        }
      ]
    },
    {
      "cell_type": "code",
      "metadata": {
        "colab": {
          "base_uri": "https://localhost:8080/",
          "height": 654
        },
        "id": "HoFTJYcfLDsE",
        "outputId": "f2dbe56d-10e8-4140-d706-1ab825a47a8d"
      },
      "source": [
        "translate(u'Er will nicht darin verstrickt werden')"
      ],
      "execution_count": 94,
      "outputs": [
        {
          "output_type": "stream",
          "text": [
            "[2, 72, 1471, 9, 64, 13, 1]\n",
            "[[   2   72 1471    9   64   13    1]]\n",
            "Input: ssss er will nicht darin verstrickt werden eeee\n",
            "Predicted translation: he can not not in not \n"
          ],
          "name": "stdout"
        },
        {
          "output_type": "display_data",
          "data": {
            "image/png": "[encoded data removed]",
            "text/plain": [
              "<Figure size 720x720 with 1 Axes>"
            ]
          },
          "metadata": {
            "tags": [],
            "needs_background": "light"
          }
        }
      ]
    }
  ]
}